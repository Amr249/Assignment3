{
 "cells": [
  {
   "cell_type": "markdown",
   "metadata": {},
   "source": [
    "1. Implement Fibonacci series using recursion."
   ]
  },
  {
   "cell_type": "code",
   "execution_count": null,
   "metadata": {},
   "outputs": [],
   "source": [
    "def fibonacci(n):\n",
    "\n",
    "  if n < 0:\n",
    "    print(\"Incorrect input\")\n",
    "    return -1\n",
    "  elif n == 0:\n",
    "    return 0\n",
    "  elif n == 1:\n",
    "    return 1\n",
    "  else:\n",
    "    return fibonacci(n-1) + fibonacci(n-2)\n",
    "\n",
    "num_terms = int(input(\"Enter the number of terms: \"))\n",
    "\n",
    "for i in range(num_terms):\n",
    "  print(fibonacci(i))"
   ]
  },
  {
   "cell_type": "markdown",
   "metadata": {},
   "source": [
    "2. Write a Python program to find all the unique words and count the frequency of occurrence from a given list of strings."
   ]
  },
  {
   "cell_type": "code",
   "execution_count": null,
   "metadata": {},
   "outputs": [],
   "source": [
    "def word_count(words):\n",
    "    word_set = set(words)\n",
    "    \n",
    "    word_counts = {}\n",
    "    \n",
    "    for word in word_set:\n",
    "        word_counts[word] = words.count(word)\n",
    "    \n",
    "    return word_counts\n",
    "\n",
    "words = ['Red', 'Green', 'Red', 'Blue', 'Red', 'Red', 'Green']\n",
    "\n",
    "print(word_count(words)) "
   ]
  },
  {
   "cell_type": "markdown",
   "metadata": {},
   "source": [
    "3. Write a Python program that finds all pairs of elements in a list whose sum is equal to a given value."
   ]
  },
  {
   "cell_type": "code",
   "execution_count": null,
   "metadata": {},
   "outputs": [],
   "source": [
    "def find_pairs(nums, target_val):\n",
    "    nums_set = set(nums)\n",
    "    pairs = []\n",
    "    for n in nums_set:\n",
    "        complement = target_val - n\n",
    "        if complement in nums_set:\n",
    "            pairs.append({n, complement})\n",
    "    return pairs\n",
    "nums = [10, 11, 12, 13, 14, 15, 16, 17, 18, 19, 20]\n",
    "print(\"Original list of numbers:\")\n",
    "print(nums)\n",
    "target_val = 35\n",
    "print(\"Target value:\",target_val)\n",
    "print(\"Find all pairs in the said list whose sum is equal to a target value:\")\n",
    "print(find_pairs(nums, target_val))\n",
    "nums = [1, 2, 3, 4, 5]\n",
    "print(\"\\nOriginal list of numbers:\")\n",
    "print(nums)\n",
    "target_val = 5\n",
    "print(\"Target value:\",target_val)\n",
    "print(\"Find all pairs in the said list whose sum is equal to a target value:\")\n",
    "print(find_pairs(nums, target_val))"
   ]
  },
  {
   "cell_type": "markdown",
   "metadata": {},
   "source": [
    "4. Write a Python program to find the two numbers whose product is maximum among all the pairs in a given list of numbers"
   ]
  },
  {
   "cell_type": "code",
   "execution_count": null,
   "metadata": {},
   "outputs": [],
   "source": [
    "def max_product(nums):\n",
    "    nums_set = set(nums)\n",
    "    \n",
    "    max_product = float('-inf')\n",
    "    max_num1 = None\n",
    "    max_num2 = None\n",
    "    \n",
    "    for n1 in nums_set:\n",
    "        for n2 in nums_set:\n",
    "            if n1 != n2 and n1 * n2 > max_product:\n",
    "                max_product = n1 * n2\n",
    "                max_num1 = n1\n",
    "                max_num2 = n2\n",
    "    \n",
    "    return (max_num1, max_num2)\n",
    "\n",
    "nums = [1, 2, 3, 4, 5, 6, 7, 8, 9]\n",
    "print(\"Original list of integers:\")\n",
    "print(nums)\n",
    "\n",
    "print(\"Maximum product of two numbers among all pairs in the said list:\")\n",
    "print(max_product(nums))\n",
    "\n",
    "nums = [1, -2, -3, 4, 5, -6, 7, -8, 9]\n",
    "print(\"\\nOriginal list of integers:\")\n",
    "print(nums)\n",
    "print(\"Maximum product of two numbers among all pairs in the said list:\")\n",
    "print(max_product(nums)) "
   ]
  },
  {
   "cell_type": "markdown",
   "metadata": {},
   "source": [
    "5. Write a Python function that takes a number as a parameter and checks whether the number is prime or not."
   ]
  },
  {
   "cell_type": "code",
   "execution_count": null,
   "metadata": {},
   "outputs": [],
   "source": [
    "def prime(number):\n",
    "    if (number == 1):\n",
    "        return False\n",
    "    elif (number == 2):\n",
    "        return True\n",
    "    else:\n",
    "        for x in range(2, number):\n",
    "            if (number % x == 0):\n",
    "                return False\n",
    "        return True\n",
    "\n",
    "print(prime(3))"
   ]
  },
  {
   "cell_type": "markdown",
   "metadata": {},
   "source": [
    "6. Write a Python function to print the even numbers from a given list"
   ]
  },
  {
   "cell_type": "code",
   "execution_count": null,
   "metadata": {},
   "outputs": [],
   "source": [
    "def even_test(list):\n",
    "  for i in range(len(list)):\n",
    "    if list[i] % 2 == 0:\n",
    "      print(list[i])\n",
    "  \n",
    "list = [1, 2, 3, 4, 5, 6, 7, 8, 9, 10]\n",
    "even_test(list)"
   ]
  },
  {
   "cell_type": "markdown",
   "metadata": {},
   "source": [
    "7. Write a function that will take a given string and reverse the order of words.\n",
    "Ex:\n",
    "“Hello world” →”world Hello”"
   ]
  },
  {
   "cell_type": "code",
   "execution_count": null,
   "metadata": {},
   "outputs": [],
   "source": [
    "def reverse_string(string):\n",
    "\n",
    "  reversed_string = string[::-1]\n",
    "  print(reversed_string)\n",
    "\n",
    "\n",
    "\n",
    "reverse_string(\"Hello world\")"
   ]
  },
  {
   "cell_type": "markdown",
   "metadata": {},
   "source": [
    "8. Given an integer x, return true if x is a palindrome, and false otherwise"
   ]
  },
  {
   "cell_type": "code",
   "execution_count": null,
   "metadata": {},
   "outputs": [],
   "source": [
    "def isPalindrome(x: int) -> bool:\n",
    "    if x < 0:\n",
    "        return False\n",
    "    number = x\n",
    "    reverse = 0\n",
    "    while number:\n",
    "        reverse = reverse * 10 + number % 10\n",
    "        number //= 10\n",
    "    return x == reverse\n",
    "\n",
    "isPalindrome(151)"
   ]
  },
  {
   "cell_type": "markdown",
   "metadata": {},
   "source": [
    "9. Write a Python function that checks whether a passed string is a palindrome or not."
   ]
  },
  {
   "cell_type": "code",
   "execution_count": null,
   "metadata": {},
   "outputs": [],
   "source": [
    "def isPalindrome(string):\n",
    "    left_pos = 0\n",
    "    right_pos = len(string) - 1\n",
    "    \n",
    "    while right_pos >= left_pos:\n",
    "        if not string[left_pos] == string[right_pos]:\n",
    "            return False\n",
    "        \n",
    "        left_pos += 1\n",
    "        right_pos -= 1\n",
    "    \n",
    "    return True\n",
    "\n",
    "print(isPalindrome('ana')) "
   ]
  },
  {
   "cell_type": "markdown",
   "metadata": {},
   "source": [
    "10. Write a Python function to create and print a list where the values are the squares of numbers between 1 and 30 (both included)."
   ]
  },
  {
   "cell_type": "code",
   "execution_count": null,
   "metadata": {},
   "outputs": [],
   "source": [
    "def function_1(start = 1, end = 30):\n",
    "  list = []\n",
    "  for i in range(start, end + 1):\n",
    "    list.append(i**2)\n",
    "  print(list)\n",
    "\n",
    "function_1()"
   ]
  },
  {
   "cell_type": "markdown",
   "metadata": {},
   "source": [
    "11. Write a Python function to generate all permutations of a list."
   ]
  },
  {
   "cell_type": "code",
   "execution_count": null,
   "metadata": {},
   "outputs": [],
   "source": [
    "import itertools\n",
    "\n",
    "print(list(itertools.permutations([1, 2, 3])))"
   ]
  },
  {
   "cell_type": "markdown",
   "metadata": {},
   "source": [
    "12. Write a Python program to access a function inside a function."
   ]
  },
  {
   "cell_type": "code",
   "execution_count": null,
   "metadata": {},
   "outputs": [],
   "source": [
    "def test(a):\n",
    "    def add(b):\n",
    "        nonlocal a\n",
    "        \n",
    "        a += 1\n",
    "        \n",
    "        return a + b\n",
    "    \n",
    "    return add\n",
    "\n",
    "func = test(4)\n",
    "\n",
    "print(func(4)) "
   ]
  }
 ],
 "metadata": {
  "kernelspec": {
   "display_name": "base",
   "language": "python",
   "name": "python3"
  },
  "language_info": {
   "codemirror_mode": {
    "name": "ipython",
    "version": 3
   },
   "file_extension": ".py",
   "mimetype": "text/x-python",
   "name": "python",
   "nbconvert_exporter": "python",
   "pygments_lexer": "ipython3",
   "version": "3.11.7"
  }
 },
 "nbformat": 4,
 "nbformat_minor": 2
}
